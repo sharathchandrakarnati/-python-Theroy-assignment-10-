{
 "cells": [
  {
   "cell_type": "markdown",
   "id": "f8da1f6d",
   "metadata": {},
   "source": [
    "## Theroy Assignment 10"
   ]
  },
  {
   "cell_type": "markdown",
   "id": "5cc0cc9e",
   "metadata": {},
   "source": [
    "## 1. How do you distinguish between shutil.copy() and shutil.copytree()?"
   ]
  },
  {
   "cell_type": "markdown",
   "id": "fdce1b56",
   "metadata": {},
   "source": [
    "## While shutil. copy() will copy a single file, shutil. copytree() will copy an entire folder and every folder and file contained in it."
   ]
  },
  {
   "cell_type": "markdown",
   "id": "ec6b5286",
   "metadata": {},
   "source": []
  },
  {
   "cell_type": "markdown",
   "id": "a08eec38",
   "metadata": {},
   "source": [
    "## 2. What function is used to rename files??"
   ]
  },
  {
   "cell_type": "markdown",
   "id": "956ec64e",
   "metadata": {},
   "source": [
    "os.rename() module in python is used to rename file a file dictory , This method rename a sourcefile/dictory . This method renames a source file/ dictory to specified destination file/directory"
   ]
  },
  {
   "cell_type": "markdown",
   "id": "0fe1a5ec",
   "metadata": {},
   "source": [
    "## syntax for os.rename ()\n",
    "import os \n",
    "source = file location \n",
    "destination = rename name file location \n",
    "os.rename(source, destination)\n",
    "print(\"source name changed sucessfully\")"
   ]
  },
  {
   "cell_type": "code",
   "execution_count": null,
   "id": "f5e9f392",
   "metadata": {},
   "outputs": [],
   "source": []
  },
  {
   "cell_type": "markdown",
   "id": "9441e836",
   "metadata": {},
   "source": [
    "### 3. What is the difference between the delete functions in the send2trash and shutil modules?"
   ]
  },
  {
   "cell_type": "markdown",
   "id": "fc17cdb3",
   "metadata": {},
   "source": [
    "- send2trash : Send2Trash is a small package that sends files to the Trash (or Recycle Bin) natively and on all platforms. To install it type the below command in the terminal.<br>\n",
    "pip install send2trash <br>\n",
    "- shutilmodules: Shutil modules offers high -level operation on a file like a copy , create and remote operation on the file. it comes under python standard utlity modules. this modules helps in automatiing the processing of copying and removal of files and directories.<br>\n",
    "        -Shutil.copy() method in python is used to copy the content of source file to the destination file or directory, it                           also preverse the files permission mode but other meta data of the file like the feild creation and \n",
    "                        modification times is not preversed \n",
    "        - Shutil.copy2() method in python is used to copy the content the source file  destinationfile or dictonary. This \n",
    "                               method but it also but it also tries to preserve the file's meta data.\n",
    "        -Shutil.copyfile() method in python is used to copy the content of the source file to the destinationfile.\n",
    "                             The metadata of the file is not copied. Source and destination must represent a file and \n",
    "                             destination must be writable. If the destination already exists then it will be replaced with \n",
    "                             the source file otherwise a new file will be created\n",
    "         - Shutil.copytree() method recursively copies an entire directory tree rooted at source (src) to the destination\n",
    "                 directory. The destination directory, named by (dst) must not already exist. It will be created during\n",
    "                 copying.\n",
    "          - Shutil.retree() is used to delete an entire directory tree, the path must point to a directory (but not a \n",
    "                          symbolic link to a directory).\n",
    "                             \n",
    "\n",
    "                    \n"
   ]
  },
  {
   "cell_type": "markdown",
   "id": "6c091f38",
   "metadata": {},
   "source": [
    "4.ZipFile objects have a close() method just like File objects’ close() method. What ZipFile method is\n",
    "equivalent to File objects’ open() method?<br>\n",
    "Ans: ZipFile Module provides a method called as zipfile.ZipFile() to read and write to zipFiles. it takes arugments lile filename and mode etc zipfile.ZipFile('filename', mode = 'r')"
   ]
  },
  {
   "cell_type": "code",
   "execution_count": 2,
   "id": "0acaa354",
   "metadata": {},
   "outputs": [],
   "source": [
    "import shutil"
   ]
  },
  {
   "cell_type": "code",
   "execution_count": 5,
   "id": "1b49ec49",
   "metadata": {},
   "outputs": [],
   "source": [
    "import os\n",
    "import shutil\n",
    "\n",
    "def search_and_copy(source,destination,extensions):\n",
    "    source = os.path.abspath(source)\n",
    "    destination = os.path.abspath(destination)\n",
    "    for foldername, subfolder, filenames in os.walk(source):\n",
    "        print(f'Folder Name ➞ {foldername}',end='\\n\\n')\n",
    "        print(f'Sub Folders ➞ {subfolder}',end='\\n\\n')\n",
    "        print(f'Files ➞ {filenames}',end='\\n\\n')\n",
    "        for filename in filenames:\n",
    "            fileName,extension = os.path.splitext(filename)\n",
    "            if extension in extensions:\n",
    "                targetFile = foldername+os.path.sep+fileName+extension\n",
    "                shutil.copy(targetFile, destination)\n",
    "        print(f'Files copied successfully from {source} to {destination}')\n",
    "    \n",
    "extensions = ['.pdf','.jpg','.ipynb']\n",
    "source = 'Dummy Source'\n",
    "destination = 'Dummy Destination'\n",
    "search_and_copy(source, destination, extensions)"
   ]
  },
  {
   "cell_type": "code",
   "execution_count": null,
   "id": "da3fc9ad",
   "metadata": {},
   "outputs": [],
   "source": [
    "\n"
   ]
  },
  {
   "cell_type": "code",
   "execution_count": null,
   "id": "70739423",
   "metadata": {},
   "outputs": [],
   "source": []
  },
  {
   "cell_type": "code",
   "execution_count": null,
   "id": "b631926d",
   "metadata": {},
   "outputs": [],
   "source": []
  },
  {
   "cell_type": "code",
   "execution_count": null,
   "id": "2c73af62",
   "metadata": {},
   "outputs": [],
   "source": []
  },
  {
   "cell_type": "code",
   "execution_count": null,
   "id": "9ec90882",
   "metadata": {},
   "outputs": [],
   "source": []
  },
  {
   "cell_type": "code",
   "execution_count": null,
   "id": "bca29ee4",
   "metadata": {},
   "outputs": [],
   "source": []
  },
  {
   "cell_type": "code",
   "execution_count": null,
   "id": "48cef5a7",
   "metadata": {},
   "outputs": [],
   "source": []
  },
  {
   "cell_type": "code",
   "execution_count": null,
   "id": "d4dac77e",
   "metadata": {},
   "outputs": [],
   "source": []
  },
  {
   "cell_type": "code",
   "execution_count": null,
   "id": "0a3dff91",
   "metadata": {},
   "outputs": [],
   "source": []
  },
  {
   "cell_type": "code",
   "execution_count": null,
   "id": "df20f6e2",
   "metadata": {},
   "outputs": [],
   "source": []
  },
  {
   "cell_type": "code",
   "execution_count": null,
   "id": "3847d18c",
   "metadata": {},
   "outputs": [],
   "source": []
  },
  {
   "cell_type": "code",
   "execution_count": null,
   "id": "b69d94ff",
   "metadata": {},
   "outputs": [],
   "source": []
  },
  {
   "cell_type": "code",
   "execution_count": null,
   "id": "efc55fce",
   "metadata": {},
   "outputs": [],
   "source": []
  },
  {
   "cell_type": "code",
   "execution_count": null,
   "id": "d9053391",
   "metadata": {},
   "outputs": [],
   "source": []
  },
  {
   "cell_type": "code",
   "execution_count": null,
   "id": "66b61d77",
   "metadata": {},
   "outputs": [],
   "source": []
  }
 ],
 "metadata": {
  "kernelspec": {
   "display_name": "Python 3 (ipykernel)",
   "language": "python",
   "name": "python3"
  },
  "language_info": {
   "codemirror_mode": {
    "name": "ipython",
    "version": 3
   },
   "file_extension": ".py",
   "mimetype": "text/x-python",
   "name": "python",
   "nbconvert_exporter": "python",
   "pygments_lexer": "ipython3",
   "version": "3.9.13"
  }
 },
 "nbformat": 4,
 "nbformat_minor": 5
}
